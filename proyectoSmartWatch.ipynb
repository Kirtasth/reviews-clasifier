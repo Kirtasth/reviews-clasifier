{
 "cells": [
  {
   "cell_type": "markdown",
   "id": "07108995",
   "metadata": {},
   "source": [
    "# Reviews Amazon\n",
    "## Clasificación de reviews\n",
    "## Grupo 2_02\n",
    "### Julen Sanchez Monreal\n",
    "### David Soto Arbizu\n",
    "### Fermín Zubiri Remirez"
   ]
  },
  {
   "cell_type": "markdown",
   "id": "1bf38dda",
   "metadata": {},
   "source": [
    "### Índice\n",
    " - [Descarga de reviews](#Descarga-de-reviews)\n",
    " - [Preprocesamiento de datos](#Preprocesamiento-de-datos)\n",
    "     - [Bag of Words](#Bag-of-Words)\n",
    "     - [TF-IDF](#TF-IDF)\n",
    " - [Tratamiento de datos](#Tratamiento-de-datos)\n",
    " "
   ]
  },
  {
   "cell_type": "code",
   "id": "b177580f",
   "metadata": {
    "ExecuteTime": {
     "end_time": "2025-03-17T11:42:17.020358Z",
     "start_time": "2025-03-17T11:42:15.973140Z"
    }
   },
   "source": [
    "pip install progressbar"
   ],
   "outputs": [
    {
     "name": "stdout",
     "output_type": "stream",
     "text": [
      "Defaulting to user installation because normal site-packages is not writeable\n",
      "Requirement already satisfied: progressbar in c:\\users\\david\\appdata\\roaming\\python\\python313\\site-packages (2.5)\n",
      "Note: you may need to restart the kernel to use updated packages.\n"
     ]
    }
   ],
   "execution_count": 2
  },
  {
   "cell_type": "code",
   "id": "2d82815e",
   "metadata": {
    "ExecuteTime": {
     "end_time": "2025-03-17T11:42:20.802585Z",
     "start_time": "2025-03-17T11:42:19.294292Z"
    }
   },
   "source": [
    "pip install deep-translator"
   ],
   "outputs": [
    {
     "name": "stdout",
     "output_type": "stream",
     "text": [
      "Defaulting to user installation because normal site-packages is not writeable\n",
      "Collecting deep-translator\n",
      "  Downloading deep_translator-1.11.4-py3-none-any.whl.metadata (30 kB)\n",
      "Requirement already satisfied: beautifulsoup4<5.0.0,>=4.9.1 in c:\\users\\david\\appdata\\roaming\\python\\python313\\site-packages (from deep-translator) (4.13.3)\n",
      "Requirement already satisfied: requests<3.0.0,>=2.23.0 in c:\\users\\david\\appdata\\roaming\\python\\python313\\site-packages (from deep-translator) (2.32.3)\n",
      "Requirement already satisfied: soupsieve>1.2 in c:\\users\\david\\appdata\\roaming\\python\\python313\\site-packages (from beautifulsoup4<5.0.0,>=4.9.1->deep-translator) (2.6)\n",
      "Requirement already satisfied: typing-extensions>=4.0.0 in c:\\users\\david\\appdata\\roaming\\python\\python313\\site-packages (from beautifulsoup4<5.0.0,>=4.9.1->deep-translator) (4.12.2)\n",
      "Requirement already satisfied: charset-normalizer<4,>=2 in c:\\users\\david\\appdata\\roaming\\python\\python313\\site-packages (from requests<3.0.0,>=2.23.0->deep-translator) (3.4.1)\n",
      "Requirement already satisfied: idna<4,>=2.5 in c:\\users\\david\\appdata\\roaming\\python\\python313\\site-packages (from requests<3.0.0,>=2.23.0->deep-translator) (3.10)\n",
      "Requirement already satisfied: urllib3<3,>=1.21.1 in c:\\users\\david\\appdata\\roaming\\python\\python313\\site-packages (from requests<3.0.0,>=2.23.0->deep-translator) (2.3.0)\n",
      "Requirement already satisfied: certifi>=2017.4.17 in c:\\users\\david\\appdata\\roaming\\python\\python313\\site-packages (from requests<3.0.0,>=2.23.0->deep-translator) (2025.1.31)\n",
      "Downloading deep_translator-1.11.4-py3-none-any.whl (42 kB)\n",
      "Installing collected packages: deep-translator\n",
      "Successfully installed deep-translator-1.11.4\n",
      "Note: you may need to restart the kernel to use updated packages.\n"
     ]
    },
    {
     "name": "stderr",
     "output_type": "stream",
     "text": [
      "  WARNING: The scripts deep-translator.exe and dt.exe are installed in 'C:\\Users\\david\\AppData\\Roaming\\Python\\Python313\\Scripts' which is not on PATH.\n",
      "  Consider adding this directory to PATH or, if you prefer to suppress this warning, use --no-warn-script-location.\n"
     ]
    }
   ],
   "execution_count": 3
  },
  {
   "cell_type": "code",
   "execution_count": 3,
   "id": "e0eced3d",
   "metadata": {},
   "outputs": [],
   "source": [
    "import requests\n",
    "import progressbar\n",
    "import pandas as pd\n",
    "import numpy as np\n",
    "import re\n",
    "import matplotlib.pyplot as plt\n",
    "\n",
    "from bs4 import BeautifulSoup\n",
    "\n",
    "from urllib.parse import urlencode\n",
    "\n",
    "from deep_translator import GoogleTranslator\n",
    "\n",
    "from nltk.corpus import stopwords\n",
    "from nltk.stem import WordNetLemmatizer\n",
    "from sklearn import model_selection\n",
    "from sklearn.feature_extraction.text import CountVectorizer\n",
    "from sklearn.feature_extraction import text\n",
    "from sklearn.linear_model import LogisticRegression\n",
    "from sklearn.naive_bayes import MultinomialNB\n",
    "from sklearn.ensemble import RandomForestClassifier\n",
    "from sklearn import metrics\n",
    "from sklearn.neural_network import MLPClassifier\n",
    "from sklearn.metrics import confusion_matrix\n",
    "from sklearn.ensemble import RandomForestClassifier\n",
    "from sklearn.model_selection import GridSearchCV\n"
   ]
  },
  {
   "cell_type": "markdown",
   "id": "6e0ced57",
   "metadata": {},
   "source": [
    "### Descarga de reviews"
   ]
  },
  {
   "cell_type": "markdown",
   "id": "850ae8f6",
   "metadata": {},
   "source": [
    "Para esta práctica hemos elegido el producto smartwatch. La razón principal es que, al ser un producto relativamente popular, hay una gran cantidad de reviews y, por tanto, podremos obtener una gran cantidad de diferentes reseñas. Para tener reviews de todas las estrellas, hemos buscado cinco smartwatch distintos porque hay algunos con muchas reviews de 1 y 2 estrellas y pocas de 4 y 5 y viceversa.\n",
    "En un primer intento, únicamente descargamos las reseñas únicamente en español. Pero se nos hicieron insuficientes y tomamos la decisión de descargar reseñas en todos los idiomas y traducirlos al español.\n",
    "Otra decisión a la hora de tomar los datos fue equilibrar las reseñas, es decir, darle al clasificador el mismo número de reseñas de 1,2,3,4 y 5 estrellas. De otra forma, tendería a predecir más unas estrellas que otras.\n",
    "Por último en esta parte, se ha decidido eliminar todo tipo de carácteres especiales y, con ello, emoticonos. Una posible mejora del programa podría ser incluirlos ya que podrían indicar si una reseña a sido más positiva o negativa."
   ]
  },
  {
   "cell_type": "code",
   "execution_count": 4,
   "id": "7b2cc0ba",
   "metadata": {},
   "outputs": [],
   "source": [
    "# Lista de todas las urls con todas las paginas de reseñas\n",
    "list_of_urls = []\n",
    "for i in range(1,145):\n",
    "    list_of_urls.append(\"https://www.amazon.es/UMIDIGI-Urun-S-Reloj-Inteligente/product-reviews/B08QCFLKRM/ref=cm_cr_getr_d_paging_btm_prev_1?ie=UTF8&reviewerType=all_reviews&pageNumber=\" + str(i))\n",
    "for i in range(1,87):\n",
    "    list_of_urls.append(\"https://www.amazon.es/UMIDIGI-Smartwatch-Inteligente-Seguimiento-Impermeable/product-reviews/B08LKQ4NH9/ref=cm_cr_arp_d_paging_btm_next_2?ie=UTF8&reviewerType=all_reviews&pageNumber=\" + str(i))\n",
    "for i in range(1,38):\n",
    "    list_of_urls.append(\"https://www.amazon.es/ANSUNG-Inteligente-Smartwatch-Puls%C3%B3metro-Impermeable/product-reviews/B0B51SVNDW/ref=cm_cr_arp_d_paging_btm_next_2?ie=UTF8&reviewerType=all_reviews&pageNumber=\" + str(i))\n",
    "for i in range(1,382):\n",
    "    list_of_urls.append(\"https://www.amazon.es/Smartwatch-Inteligente-Impermeable-Puls%C3%B3metro-Cron%C3%B3metros/product-reviews/B0956XD8Y7/ref=cm_cr_arp_d_paging_btm_next_2?ie=UTF8&reviewerType=all_reviews&pageNumber=\" + str(i))\n",
    "for i in range(1,501):\n",
    "    list_of_urls.append(\"https://www.amazon.es/AGPTEK-Smartwatch-Inteligente-Puls%C3%B3metro-Adolescentes/product-reviews/B08TBBQ4BD/ref=cm_cr_arp_d_paging_btm_next_2?ie=UTF8&reviewerType=all_reviews&pageNumber=\" + str(i))"
   ]
  },
  {
   "cell_type": "markdown",
   "id": "c6c5ede7",
   "metadata": {},
   "source": [
    "Utilizaremos una barra de progresión y se guardarán las reseñas en un archivo csv puesto que el proceso de descarga es lento. Aunque se ha evitado usar apis de intermediarios para agilizar el proceso."
   ]
  },
  {
   "cell_type": "code",
   "execution_count": 5,
   "id": "211dd2dc",
   "metadata": {},
   "outputs": [
    {
     "name": "stderr",
     "output_type": "stream",
     "text": [
      "[========================================================================] 100%\n"
     ]
    }
   ],
   "source": [
    "stars = []\n",
    "reviews = []\n",
    "data_string = \"\"\n",
    "page_count = 0\n",
    "bar = progressbar.ProgressBar(maxval=len(list_of_urls),\n",
    "                             widgets= [progressbar.Bar('=','[',']'), ' ', progressbar.Percentage()])\n",
    "bar.start()\n",
    "HEADERS = ({'User-Agent':\n",
    "           'Mozilla/5.0 (Windows NT 10.0; Win64; x64) AppleWebKit/537.36 (KHTML, like Gecko) Chrome/110.0.0.0 Safari/537.36'})\n",
    "\n",
    "for url in list_of_urls:\n",
    "    response = requests.get(url, headers = HEADERS)\n",
    "    soup = BeautifulSoup(response.text,\"html.parser\")\n",
    "    \n",
    "    for review in soup.find_all(\"div\", {\"data-hook\": \"review\"}):       \n",
    "#       Obtencion de la reseña, se eliminan carácteres que no aportan información\n",
    "        if review.find(\"span\",{\"data-hook\": \"review-body\"}):\n",
    "            item = review.find(\"span\",{\"data-hook\": \"review-body\"})\n",
    "            data_string = data_string + item.get_text()\n",
    "            data_string = data_string.replace(\"No se ha podido cargar el contenido multimedia.\",\"\")                            \n",
    "            data_string = data_string.replace(\"\\n\",\"\")  \n",
    "            data_string = data_string.replace(\"\\t\",\"\")  \n",
    "            data_string = data_string.replace(\"\\xa0\",\"\")  \n",
    "            data_string = data_string.replace('\"',\"\")                        \n",
    "            reviews.append(data_string)\n",
    "            data_string = \"\"\n",
    "#       Obtención de las estrellas\n",
    "        if review.find(\"i\",{\"data-hook\": \"review-star-rating\"}):\n",
    "            item = review.find(\"i\",{\"data-hook\": \"review-star-rating\"})            \n",
    "            data_string = data_string + item.get_text()            \n",
    "            data_string = data_string[0] + \".\" + data_string[2]\n",
    "            stars.append(data_string)\n",
    "            data_string= \"\"\n",
    "            \n",
    "        elif review.find(\"i\", {\"data-hook\": \"cmps-review-star-rating\"}):\n",
    "            item = review.find(\"i\", {\"data-hook\": \"cmps-review-star-rating\"})            \n",
    "            data_string = data_string + item.get_text()            \n",
    "            data_string = data_string[0] + \".\" + data_string[2]\n",
    "            stars.append(data_string)\n",
    "            data_string= \"\" \n",
    "    \n",
    "    page_count += 1\n",
    "    bar.update(page_count)\n",
    "bar.finish()"
   ]
  },
  {
   "cell_type": "code",
   "execution_count": 6,
   "id": "1aa6272d",
   "metadata": {},
   "outputs": [
    {
     "name": "stdout",
     "output_type": "stream",
     "text": [
      "4566\n",
      "4566\n"
     ]
    }
   ],
   "source": [
    "# Comprobamos que las reseñas tienen la misma longitud\n",
    "print(len(reviews))\n",
    "print(len(stars))"
   ]
  },
  {
   "cell_type": "markdown",
   "id": "13966492",
   "metadata": {},
   "source": [
    "Creamos un diccionario con dos columnas, una de el número de estrellas y otra con la reseña"
   ]
  },
  {
   "cell_type": "code",
   "execution_count": 8,
   "id": "1824184b",
   "metadata": {},
   "outputs": [
    {
     "data": {
      "text/html": [
       "<div>\n",
       "<style scoped>\n",
       "    .dataframe tbody tr th:only-of-type {\n",
       "        vertical-align: middle;\n",
       "    }\n",
       "\n",
       "    .dataframe tbody tr th {\n",
       "        vertical-align: top;\n",
       "    }\n",
       "\n",
       "    .dataframe thead th {\n",
       "        text-align: right;\n",
       "    }\n",
       "</style>\n",
       "<table border=\"1\" class=\"dataframe\">\n",
       "  <thead>\n",
       "    <tr style=\"text-align: right;\">\n",
       "      <th></th>\n",
       "      <th>0</th>\n",
       "      <th>1</th>\n",
       "      <th>2</th>\n",
       "      <th>3</th>\n",
       "      <th>4</th>\n",
       "      <th>5</th>\n",
       "      <th>6</th>\n",
       "      <th>7</th>\n",
       "      <th>8</th>\n",
       "      <th>9</th>\n",
       "      <th>...</th>\n",
       "      <th>4556</th>\n",
       "      <th>4557</th>\n",
       "      <th>4558</th>\n",
       "      <th>4559</th>\n",
       "      <th>4560</th>\n",
       "      <th>4561</th>\n",
       "      <th>4562</th>\n",
       "      <th>4563</th>\n",
       "      <th>4564</th>\n",
       "      <th>4565</th>\n",
       "    </tr>\n",
       "  </thead>\n",
       "  <tbody>\n",
       "    <tr>\n",
       "      <th>Stars</th>\n",
       "      <td>5.0</td>\n",
       "      <td>2.0</td>\n",
       "      <td>3.0</td>\n",
       "      <td>4.0</td>\n",
       "      <td>3.0</td>\n",
       "      <td>5.0</td>\n",
       "      <td>3.0</td>\n",
       "      <td>5.0</td>\n",
       "      <td>4.0</td>\n",
       "      <td>3.0</td>\n",
       "      <td>...</td>\n",
       "      <td>3.0</td>\n",
       "      <td>5.0</td>\n",
       "      <td>4.0</td>\n",
       "      <td>4.0</td>\n",
       "      <td>5.0</td>\n",
       "      <td>5.0</td>\n",
       "      <td>2.0</td>\n",
       "      <td>5.0</td>\n",
       "      <td>1.0</td>\n",
       "      <td>1.0</td>\n",
       "    </tr>\n",
       "    <tr>\n",
       "      <th>Reviews</th>\n",
       "      <td>Te cuento ...</td>\n",
       "      <td>El reloj iba perfecto (la app es una castaña ,...</td>\n",
       "      <td>La batería dura de 3 a 4 días (depende del uso...</td>\n",
       "      <td>Excelente</td>\n",
       "      <td>Muito difícil de conectar ao nosso telemóvel v...</td>\n",
       "      <td>Solo en una semana funciona muy bien!!!  muy b...</td>\n",
       "      <td>Es preciosa y funciona genial tiene todo lo qu...</td>\n",
       "      <td>Funciona perfectamente</td>\n",
       "      <td>Llevo varios días utilizándolo y la verdad que...</td>\n",
       "      <td>No se vincula con app básicas</td>\n",
       "      <td>...</td>\n",
       "      <td>Die mobile App ist sehr einfach in der Bedienu...</td>\n",
       "      <td>Arrivato nei tempi previsti ottimo prodotto. D...</td>\n",
       "      <td>Muy bonito</td>\n",
       "      <td>The color is great</td>\n",
       "      <td>ottimo per qualità e prezzo</td>\n",
       "      <td>Tolle Smartwatch ist sehr einfach zu bedienen....</td>\n",
       "      <td>Ho scelto questo perché uno dei pochi in cui i...</td>\n",
       "      <td>Very impressed with how quickly it arrived. I ...</td>\n",
       "      <td>Die Uhr ist optisch wirklich sehr schön gemach...</td>\n",
       "      <td>I loved this watch for the 10 hours it actuall...</td>\n",
       "    </tr>\n",
       "  </tbody>\n",
       "</table>\n",
       "<p>2 rows × 4566 columns</p>\n",
       "</div>"
      ],
      "text/plain": [
       "                                                      0     \\\n",
       "Stars                                                  5.0   \n",
       "Reviews                                      Te cuento ...   \n",
       "\n",
       "                                                      1     \\\n",
       "Stars                                                  2.0   \n",
       "Reviews  El reloj iba perfecto (la app es una castaña ,...   \n",
       "\n",
       "                                                      2          3     \\\n",
       "Stars                                                  3.0        4.0   \n",
       "Reviews  La batería dura de 3 a 4 días (depende del uso...  Excelente   \n",
       "\n",
       "                                                      4     \\\n",
       "Stars                                                  3.0   \n",
       "Reviews  Muito difícil de conectar ao nosso telemóvel v...   \n",
       "\n",
       "                                                      5     \\\n",
       "Stars                                                  5.0   \n",
       "Reviews  Solo en una semana funciona muy bien!!!  muy b...   \n",
       "\n",
       "                                                      6     \\\n",
       "Stars                                                  3.0   \n",
       "Reviews  Es preciosa y funciona genial tiene todo lo qu...   \n",
       "\n",
       "                           7     \\\n",
       "Stars                       5.0   \n",
       "Reviews  Funciona perfectamente   \n",
       "\n",
       "                                                      8     \\\n",
       "Stars                                                  4.0   \n",
       "Reviews  Llevo varios días utilizándolo y la verdad que...   \n",
       "\n",
       "                                  9     ...  \\\n",
       "Stars                              3.0  ...   \n",
       "Reviews  No se vincula con app básicas  ...   \n",
       "\n",
       "                                                      4556  \\\n",
       "Stars                                                  3.0   \n",
       "Reviews  Die mobile App ist sehr einfach in der Bedienu...   \n",
       "\n",
       "                                                      4557        4558  \\\n",
       "Stars                                                  5.0         4.0   \n",
       "Reviews  Arrivato nei tempi previsti ottimo prodotto. D...  Muy bonito   \n",
       "\n",
       "                       4559                         4560  \\\n",
       "Stars                   4.0                          5.0   \n",
       "Reviews  The color is great  ottimo per qualità e prezzo   \n",
       "\n",
       "                                                      4561  \\\n",
       "Stars                                                  5.0   \n",
       "Reviews  Tolle Smartwatch ist sehr einfach zu bedienen....   \n",
       "\n",
       "                                                      4562  \\\n",
       "Stars                                                  2.0   \n",
       "Reviews  Ho scelto questo perché uno dei pochi in cui i...   \n",
       "\n",
       "                                                      4563  \\\n",
       "Stars                                                  5.0   \n",
       "Reviews  Very impressed with how quickly it arrived. I ...   \n",
       "\n",
       "                                                      4564  \\\n",
       "Stars                                                  1.0   \n",
       "Reviews  Die Uhr ist optisch wirklich sehr schön gemach...   \n",
       "\n",
       "                                                      4565  \n",
       "Stars                                                  1.0  \n",
       "Reviews  I loved this watch for the 10 hours it actuall...  \n",
       "\n",
       "[2 rows x 4566 columns]"
      ]
     },
     "execution_count": 8,
     "metadata": {},
     "output_type": "execute_result"
    }
   ],
   "source": [
    "reviews_dict = {'Stars': stars,'Reviews': reviews}\n",
    "\n",
    "df = pd.DataFrame.from_dict(reviews_dict, orient='index')\n",
    "df.head(5)"
   ]
  },
  {
   "cell_type": "markdown",
   "id": "c8638d08",
   "metadata": {},
   "source": [
    "Lo trasponemos para obtener columnas con los datos que queremos"
   ]
  },
  {
   "cell_type": "code",
   "execution_count": 10,
   "id": "14a1ec5a",
   "metadata": {},
   "outputs": [
    {
     "data": {
      "text/html": [
       "<div>\n",
       "<style scoped>\n",
       "    .dataframe tbody tr th:only-of-type {\n",
       "        vertical-align: middle;\n",
       "    }\n",
       "\n",
       "    .dataframe tbody tr th {\n",
       "        vertical-align: top;\n",
       "    }\n",
       "\n",
       "    .dataframe thead th {\n",
       "        text-align: right;\n",
       "    }\n",
       "</style>\n",
       "<table border=\"1\" class=\"dataframe\">\n",
       "  <thead>\n",
       "    <tr style=\"text-align: right;\">\n",
       "      <th></th>\n",
       "      <th>Stars</th>\n",
       "      <th>Reviews</th>\n",
       "    </tr>\n",
       "  </thead>\n",
       "  <tbody>\n",
       "    <tr>\n",
       "      <th>0</th>\n",
       "      <td>5.0</td>\n",
       "      <td>Te cuento ...</td>\n",
       "    </tr>\n",
       "    <tr>\n",
       "      <th>1</th>\n",
       "      <td>2.0</td>\n",
       "      <td>El reloj iba perfecto (la app es una castaña ,...</td>\n",
       "    </tr>\n",
       "    <tr>\n",
       "      <th>2</th>\n",
       "      <td>3.0</td>\n",
       "      <td>La batería dura de 3 a 4 días (depende del uso...</td>\n",
       "    </tr>\n",
       "    <tr>\n",
       "      <th>3</th>\n",
       "      <td>4.0</td>\n",
       "      <td>Excelente</td>\n",
       "    </tr>\n",
       "    <tr>\n",
       "      <th>4</th>\n",
       "      <td>3.0</td>\n",
       "      <td>Muito difícil de conectar ao nosso telemóvel v...</td>\n",
       "    </tr>\n",
       "  </tbody>\n",
       "</table>\n",
       "</div>"
      ],
      "text/plain": [
       "  Stars                                            Reviews\n",
       "0   5.0                                      Te cuento ...\n",
       "1   2.0  El reloj iba perfecto (la app es una castaña ,...\n",
       "2   3.0  La batería dura de 3 a 4 días (depende del uso...\n",
       "3   4.0                                          Excelente\n",
       "4   3.0  Muito difícil de conectar ao nosso telemóvel v..."
      ]
     },
     "execution_count": 10,
     "metadata": {},
     "output_type": "execute_result"
    }
   ],
   "source": [
    "prod_stars = df.T\n",
    "prod_stars.head(5)"
   ]
  },
  {
   "cell_type": "code",
   "execution_count": 11,
   "id": "7f4c47cb",
   "metadata": {},
   "outputs": [
    {
     "data": {
      "text/html": [
       "<div>\n",
       "<style scoped>\n",
       "    .dataframe tbody tr th:only-of-type {\n",
       "        vertical-align: middle;\n",
       "    }\n",
       "\n",
       "    .dataframe tbody tr th {\n",
       "        vertical-align: top;\n",
       "    }\n",
       "\n",
       "    .dataframe thead th {\n",
       "        text-align: right;\n",
       "    }\n",
       "</style>\n",
       "<table border=\"1\" class=\"dataframe\">\n",
       "  <thead>\n",
       "    <tr style=\"text-align: right;\">\n",
       "      <th></th>\n",
       "      <th>Stars</th>\n",
       "      <th>Reviews</th>\n",
       "    </tr>\n",
       "  </thead>\n",
       "  <tbody>\n",
       "    <tr>\n",
       "      <th>0</th>\n",
       "      <td>5.0</td>\n",
       "      <td>Te cuento ...</td>\n",
       "    </tr>\n",
       "    <tr>\n",
       "      <th>1</th>\n",
       "      <td>2.0</td>\n",
       "      <td>El reloj iba perfecto (la app es una castaña ,...</td>\n",
       "    </tr>\n",
       "    <tr>\n",
       "      <th>2</th>\n",
       "      <td>3.0</td>\n",
       "      <td>La batería dura de 3 a 4 días (depende del uso...</td>\n",
       "    </tr>\n",
       "    <tr>\n",
       "      <th>3</th>\n",
       "      <td>4.0</td>\n",
       "      <td>Excelente</td>\n",
       "    </tr>\n",
       "    <tr>\n",
       "      <th>4</th>\n",
       "      <td>3.0</td>\n",
       "      <td>Muito difícil de conectar ao nosso telemóvel v...</td>\n",
       "    </tr>\n",
       "  </tbody>\n",
       "</table>\n",
       "</div>"
      ],
      "text/plain": [
       "  Stars                                            Reviews\n",
       "0   5.0                                      Te cuento ...\n",
       "1   2.0  El reloj iba perfecto (la app es una castaña ,...\n",
       "2   3.0  La batería dura de 3 a 4 días (depende del uso...\n",
       "3   4.0                                          Excelente\n",
       "4   3.0  Muito difícil de conectar ao nosso telemóvel v..."
      ]
     },
     "execution_count": 11,
     "metadata": {},
     "output_type": "execute_result"
    }
   ],
   "source": [
    "# Eliminamos reviews vacías antes de igualar las reseñas\n",
    "prod_stars['Reviews'].replace(\"\",np.nan,inplace=True)\n",
    "prod_stars.dropna(subset=['Reviews'],inplace=True)\n",
    "prod_stars.head(5)"
   ]
  },
  {
   "cell_type": "code",
   "execution_count": 12,
   "id": "4d09a3c5",
   "metadata": {},
   "outputs": [],
   "source": [
    "# La función equalizeReviews recibe como parametro el diccionario de reviews y iguala las reseñas a la\n",
    "# estrella que menos reseñas tiene\n",
    "def equalizeReviews(reviews):\n",
    "    mini = min(reviews['Stars'].value_counts())        \n",
    "    \n",
    "    resultDataFrame = pd.DataFrame(data = None, columns = reviews.columns)\n",
    "    \n",
    "    for i in range(1,6):\n",
    "        index = str(i) + '.0'        \n",
    "        selected_star_reviews = reviews.loc[reviews['Stars'] == index].sample(n=mini)       \n",
    "        resultDataFrame = pd.concat([resultDataFrame,selected_star_reviews], ignore_index = True)\n",
    "    return resultDataFrame"
   ]
  },
  {
   "cell_type": "code",
   "execution_count": 13,
   "id": "7ca58634",
   "metadata": {},
   "outputs": [
    {
     "data": {
      "text/html": [
       "<div>\n",
       "<style scoped>\n",
       "    .dataframe tbody tr th:only-of-type {\n",
       "        vertical-align: middle;\n",
       "    }\n",
       "\n",
       "    .dataframe tbody tr th {\n",
       "        vertical-align: top;\n",
       "    }\n",
       "\n",
       "    .dataframe thead th {\n",
       "        text-align: right;\n",
       "    }\n",
       "</style>\n",
       "<table border=\"1\" class=\"dataframe\">\n",
       "  <thead>\n",
       "    <tr style=\"text-align: right;\">\n",
       "      <th></th>\n",
       "      <th>Stars</th>\n",
       "      <th>Reviews</th>\n",
       "    </tr>\n",
       "  </thead>\n",
       "  <tbody>\n",
       "    <tr>\n",
       "      <th>0</th>\n",
       "      <td>1.0</td>\n",
       "      <td>Vi consiglio su non comprarlo. All'inizio è fa...</td>\n",
       "    </tr>\n",
       "    <tr>\n",
       "      <th>1</th>\n",
       "      <td>1.0</td>\n",
       "      <td>No necesito grandes prestaciones en un smartwa...</td>\n",
       "    </tr>\n",
       "    <tr>\n",
       "      <th>2</th>\n",
       "      <td>1.0</td>\n",
       "      <td>20 dias y dejó de funcionar, se apagó y ya no ...</td>\n",
       "    </tr>\n",
       "    <tr>\n",
       "      <th>3</th>\n",
       "      <td>1.0</td>\n",
       "      <td>Malísimo, no lo recomiendo para nada, no cuent...</td>\n",
       "    </tr>\n",
       "    <tr>\n",
       "      <th>4</th>\n",
       "      <td>1.0</td>\n",
       "      <td>Not as I think , battery ist not so good as th...</td>\n",
       "    </tr>\n",
       "    <tr>\n",
       "      <th>...</th>\n",
       "      <td>...</td>\n",
       "      <td>...</td>\n",
       "    </tr>\n",
       "    <tr>\n",
       "      <th>1785</th>\n",
       "      <td>5.0</td>\n",
       "      <td>Die Uhr ist absolut klasse, viel besser als ic...</td>\n",
       "    </tr>\n",
       "    <tr>\n",
       "      <th>1786</th>\n",
       "      <td>5.0</td>\n",
       "      <td>This a brilliant fitness watch for the price. ...</td>\n",
       "    </tr>\n",
       "    <tr>\n",
       "      <th>1787</th>\n",
       "      <td>5.0</td>\n",
       "      <td>Fonction principale: principalement utilisée p...</td>\n",
       "    </tr>\n",
       "    <tr>\n",
       "      <th>1788</th>\n",
       "      <td>5.0</td>\n",
       "      <td>This is a ...</td>\n",
       "    </tr>\n",
       "    <tr>\n",
       "      <th>1789</th>\n",
       "      <td>5.0</td>\n",
       "      <td>Esta genial todo muy bien 👌👌👌</td>\n",
       "    </tr>\n",
       "  </tbody>\n",
       "</table>\n",
       "<p>1790 rows × 2 columns</p>\n",
       "</div>"
      ],
      "text/plain": [
       "     Stars                                            Reviews\n",
       "0      1.0  Vi consiglio su non comprarlo. All'inizio è fa...\n",
       "1      1.0  No necesito grandes prestaciones en un smartwa...\n",
       "2      1.0  20 dias y dejó de funcionar, se apagó y ya no ...\n",
       "3      1.0  Malísimo, no lo recomiendo para nada, no cuent...\n",
       "4      1.0  Not as I think , battery ist not so good as th...\n",
       "...    ...                                                ...\n",
       "1785   5.0  Die Uhr ist absolut klasse, viel besser als ic...\n",
       "1786   5.0  This a brilliant fitness watch for the price. ...\n",
       "1787   5.0  Fonction principale: principalement utilisée p...\n",
       "1788   5.0                                      This is a ...\n",
       "1789   5.0                      Esta genial todo muy bien 👌👌👌\n",
       "\n",
       "[1790 rows x 2 columns]"
      ]
     },
     "execution_count": 13,
     "metadata": {},
     "output_type": "execute_result"
    }
   ],
   "source": [
    "dfFinal = equalizeReviews(prod_stars)\n",
    "dfFinal"
   ]
  },
  {
   "cell_type": "markdown",
   "id": "69acba9d",
   "metadata": {},
   "source": [
    "La funcion translateChunk recibe como parametro la columna de reviews y la traduce.\n",
    "Destacamos que el deep-translate únicamente nos permite traducir trozos de menos de 5000 carácteres,\n",
    "por tanto, hemos de dividir la reseña en trozos sin cortar ninguna palabra por la mitad"
   ]
  },
  {
   "cell_type": "code",
   "execution_count": 15,
   "id": "f9fbf03c",
   "metadata": {},
   "outputs": [],
   "source": [
    "def translateChunk(text, chunkSize = 4999):\n",
    "    words = text.split()    \n",
    "    splitted_text = []\n",
    "    aux = \"\"\n",
    "    for word in words:        \n",
    "        if (len(aux) + len(word) + 1) > chunkSize:\n",
    "            splitted_text.append(aux)\n",
    "            aux = \"\"\n",
    "        aux += word + \" \"\n",
    "    \n",
    "    if len(aux) > 0:\n",
    "        splitted_text.append(aux)\n",
    "        \n",
    "    result_string = \"\"\n",
    "    for chunk in splitted_text:\n",
    "        result_translate = GoogleTranslator(source='auto', target='es').translate(text=chunk)\n",
    "        if result_translate is not None:\n",
    "            result_string += result_translate\n",
    "    return result_string"
   ]
  },
  {
   "cell_type": "code",
   "execution_count": 16,
   "id": "a297ce52",
   "metadata": {},
   "outputs": [
    {
     "name": "stderr",
     "output_type": "stream",
     "text": [
      "[========================================================================] 100%\n"
     ]
    }
   ],
   "source": [
    "# Traducimos todas las reseñas, este es el proceso más lento de la descarga\n",
    "bar = progressbar.ProgressBar(maxval=len(dfFinal['Reviews']),\n",
    "                             widgets= [progressbar.Bar('=','[',']'), ' ', progressbar.Percentage()])\n",
    "bar.start()\n",
    "barIndex = 0\n",
    "for index,row in dfFinal.iterrows():\n",
    "    row['Reviews'] = translateChunk(row['Reviews'])\n",
    "    barIndex += 1\n",
    "    bar.update(barIndex)\n",
    "    \n",
    "bar.finish()"
   ]
  },
  {
   "cell_type": "code",
   "execution_count": 17,
   "id": "a44f1c4f",
   "metadata": {},
   "outputs": [],
   "source": [
    "# Volvemos a eliminar las reviews vacías por si la traducción nos ha dado un resultado vacío\n",
    "dfFinal['Reviews'].replace(\"\",np.nan,inplace=True)\n",
    "dfFinal.dropna(subset=['Reviews'],inplace=True)"
   ]
  },
  {
   "cell_type": "code",
   "execution_count": 18,
   "id": "e386eb66",
   "metadata": {},
   "outputs": [],
   "source": [
    "# Creamos un csv con la información obtenida\n",
    "dfFinal.to_csv('reviews.csv', index=False, header=True, encoding = \"utf-8-sig\", sep = ';')"
   ]
  },
  {
   "cell_type": "markdown",
   "id": "dd5c281e",
   "metadata": {},
   "source": [
    "### Preprocesamiento de datos"
   ]
  },
  {
   "cell_type": "markdown",
   "id": "e0dc0bdc",
   "metadata": {},
   "source": [
    "En esta parte hemos decidido eliminar cualquier carácter especial, incluyendo emojis. Una posible mejora adicional del proyecto sería incluir los emojis para comprobar si afecta a su comportamiento. También hemos elegido lemmatizar ya que consideramos que, a pesar de ser mas costoso en cuanto a tiempo de ejecución, guarda mejor la esencia del significado de la palabra y para este preprocesamiento con el objetivo de clasificar textos creemos que es una mejor opción. Igualmente se podría incluir en posibles mejoras del programa."
   ]
  },
  {
   "cell_type": "code",
   "execution_count": 19,
   "id": "d58bd25a",
   "metadata": {},
   "outputs": [
    {
     "data": {
      "text/html": [
       "<div>\n",
       "<style scoped>\n",
       "    .dataframe tbody tr th:only-of-type {\n",
       "        vertical-align: middle;\n",
       "    }\n",
       "\n",
       "    .dataframe tbody tr th {\n",
       "        vertical-align: top;\n",
       "    }\n",
       "\n",
       "    .dataframe thead th {\n",
       "        text-align: right;\n",
       "    }\n",
       "</style>\n",
       "<table border=\"1\" class=\"dataframe\">\n",
       "  <thead>\n",
       "    <tr style=\"text-align: right;\">\n",
       "      <th></th>\n",
       "      <th>Stars</th>\n",
       "      <th>Reviews</th>\n",
       "    </tr>\n",
       "  </thead>\n",
       "  <tbody>\n",
       "    <tr>\n",
       "      <th>0</th>\n",
       "      <td>1.0</td>\n",
       "      <td>Te aconsejo que no lo compres. Es genial al pr...</td>\n",
       "    </tr>\n",
       "    <tr>\n",
       "      <th>1</th>\n",
       "      <td>1.0</td>\n",
       "      <td>No necesito grandes prestaciones en un smartwa...</td>\n",
       "    </tr>\n",
       "    <tr>\n",
       "      <th>2</th>\n",
       "      <td>1.0</td>\n",
       "      <td>20 dias y dejó de funcionar, se apagó y ya no ...</td>\n",
       "    </tr>\n",
       "    <tr>\n",
       "      <th>3</th>\n",
       "      <td>1.0</td>\n",
       "      <td>Malísimo, no lo recomiendo para nada, no cuent...</td>\n",
       "    </tr>\n",
       "    <tr>\n",
       "      <th>4</th>\n",
       "      <td>1.0</td>\n",
       "      <td>No como creo, la batería no es tan buena como ...</td>\n",
       "    </tr>\n",
       "  </tbody>\n",
       "</table>\n",
       "</div>"
      ],
      "text/plain": [
       "   Stars                                            Reviews\n",
       "0    1.0  Te aconsejo que no lo compres. Es genial al pr...\n",
       "1    1.0  No necesito grandes prestaciones en un smartwa...\n",
       "2    1.0  20 dias y dejó de funcionar, se apagó y ya no ...\n",
       "3    1.0  Malísimo, no lo recomiendo para nada, no cuent...\n",
       "4    1.0  No como creo, la batería no es tan buena como ..."
      ]
     },
     "execution_count": 19,
     "metadata": {},
     "output_type": "execute_result"
    }
   ],
   "source": [
    "# Recuperamos los datos del csv\n",
    "data = pd.read_csv('reviews.csv', delimiter = \";\")\n",
    "data.head(5)"
   ]
  },
  {
   "cell_type": "markdown",
   "id": "dac85a40",
   "metadata": {},
   "source": [
    "Vamos a crear varias funciones para tratar los datos y así obtener de cada reseña un vector con un número de características."
   ]
  },
  {
   "cell_type": "code",
   "execution_count": 20,
   "id": "d209d30a",
   "metadata": {},
   "outputs": [],
   "source": [
    "# Eliminamos las palabras que carecen de un significado relevante para la reseña\n",
    "def remove_stopword(text):\n",
    "    text = [word for word in text.split() if word not in stopwords.words('spanish')]    \n",
    "    return ' '.join(text)"
   ]
  },
  {
   "cell_type": "code",
   "execution_count": 21,
   "id": "72d8a9a1",
   "metadata": {},
   "outputs": [],
   "source": [
    "# Lemmatizamos las palabras, es decir, obtenemos las palabras que tienen un significado parecido en una\n",
    "# única palabra\n",
    "def lemmatize_text(text):\n",
    "    lemmatizer = WordNetLemmatizer()\n",
    "    text = [lemmatizer.lemmatize(word) for word in text.split()]\n",
    "    return ' '.join(text)"
   ]
  },
  {
   "cell_type": "markdown",
   "id": "869ac714",
   "metadata": {},
   "source": [
    "Pretratamiento final de una review."
   ]
  },
  {
   "cell_type": "code",
   "execution_count": 22,
   "id": "d7ac3dab",
   "metadata": {},
   "outputs": [],
   "source": [
    "def final_preprocessor(text):\n",
    "    text = text.lower()    \n",
    "    text = [re.sub('[^a-zñáéíóú]+', '',word) for word in text.split()]    \n",
    "    text = ' '.join(text)    \n",
    "    text = remove_stopword(text)    \n",
    "    text = lemmatize_text(text)        \n",
    "    return text"
   ]
  },
  {
   "cell_type": "markdown",
   "id": "81d81f27",
   "metadata": {},
   "source": [
    "Vamos a comprobar que el procesamiento está haciendo lo que debe con un ejemplo."
   ]
  },
  {
   "cell_type": "code",
   "execution_count": 23,
   "id": "ad43064f",
   "metadata": {},
   "outputs": [
    {
     "name": "stdout",
     "output_type": "stream",
     "text": [
      "Antes: \n",
      "Te aconsejo que no lo compres. Es genial al principio, realmente parece estar bien hecho. Al cabo de menos de 24 horas empezó a dar problemas, la pantalla se oscureció de repente, se apagó y, tras volver a encenderla, siempre aparecía la palabra APP en la pantalla. He intentado actualizar los recursos, el sistema y el firmware; Lo reseteé, lo reinstalé y probé de todo.Al final lo devolví, después de ni 48 horas.Es el segundo Umidigi el que me está dando problemas, ahora he cambiado de marca.\n",
      "Después: \n",
      "aconsejo compres genial principio realmente parece bien hecho cabo menos horas empezó dar problemas pantalla oscureció repente apagó tras volver encenderla siempre aparecía palabra app pantalla intentado actualizar recursos sistema firmware reseteé reinstalé probé todoal final devolví después horases segundo umidigi dando problemas ahora cambiado marca\n"
     ]
    }
   ],
   "source": [
    "test_review = data['Reviews'][0]\n",
    "processed_test_review = final_preprocessor(test_review)\n",
    "print(\"Antes: \")\n",
    "print(test_review)\n",
    "print(\"Después: \")\n",
    "print(processed_test_review)"
   ]
  },
  {
   "cell_type": "markdown",
   "id": "f29b789d",
   "metadata": {},
   "source": [
    "Ahora vamos a aplicar el preprocesamiento a todas las reviews."
   ]
  },
  {
   "cell_type": "code",
   "execution_count": 24,
   "id": "21e4a618",
   "metadata": {},
   "outputs": [],
   "source": [
    "data['Reviews'] = data.apply(lambda row: final_preprocessor(row[1]), axis = 1)"
   ]
  },
  {
   "cell_type": "markdown",
   "id": "93108af0",
   "metadata": {},
   "source": [
    "Dividimos los datos en entrenamiento y test. En este caso hemos elegido un 80% de datos de train y un 20% de datos de test."
   ]
  },
  {
   "cell_type": "code",
   "execution_count": 25,
   "id": "5021fa0d-8b79-4b1b-9798-e06526bc571d",
   "metadata": {},
   "outputs": [
    {
     "name": "stdout",
     "output_type": "stream",
     "text": [
      "(1429,)\n",
      "(179,)\n",
      "(179,)\n",
      "(1429,)\n",
      "(179,)\n",
      "(179,)\n"
     ]
    }
   ],
   "source": [
    "\n",
    "# Creación de los conjuntos de test (10% de los ejemplos) y el resto de ejemplos\n",
    "X_train, test, y_train, test_y = model_selection.train_test_split(data['Reviews'], data['Stars'], train_size=0.8, random_state=888)\n",
    "# Creación de los conjuntos de train (80% de los ejemplos) y de validación (resto de los ejemplos)\n",
    "X_test, X_val, y_test, y_val = model_selection.train_test_split(test, test_y, train_size=0.5, random_state=888)\n",
    "\n",
    "\n",
    "print(X_train.shape)\n",
    "print(X_test.shape)\n",
    "print(X_val.shape)\n",
    "print(y_train.shape)\n",
    "print(y_test.shape)\n",
    "print(y_val.shape)"
   ]
  },
  {
   "cell_type": "markdown",
   "id": "ac132d85",
   "metadata": {},
   "source": [
    "#### Bag of Words"
   ]
  },
  {
   "cell_type": "code",
   "execution_count": 26,
   "id": "3a58855f",
   "metadata": {},
   "outputs": [
    {
     "name": "stdout",
     "output_type": "stream",
     "text": [
      "(1429, 392)\n"
     ]
    }
   ],
   "source": [
    "cv = CountVectorizer(lowercase = False,                                          \n",
    "                     min_df=0.01,\n",
    "                     max_df=0.7,\n",
    "                     binary=False)\n",
    "\n",
    "X_train_cv = cv.fit_transform(X_train)\n",
    "print(X_train_cv.shape)\n",
    "X_Val_cv = cv.transform(X_val)"
   ]
  },
  {
   "cell_type": "markdown",
   "id": "c5de77ec",
   "metadata": {},
   "source": [
    "#### TF-IDF"
   ]
  },
  {
   "cell_type": "code",
   "execution_count": 27,
   "id": "26f1e291",
   "metadata": {},
   "outputs": [
    {
     "name": "stdout",
     "output_type": "stream",
     "text": [
      "(1429, 392)\n"
     ]
    }
   ],
   "source": [
    "tfidfv = text.TfidfVectorizer(lowercase = False,\n",
    "                              min_df = 0.01,\n",
    "                              max_df = 0.8)\n",
    "X_train_tfidfv = tfidfv.fit_transform(X_train)\n",
    "print(X_train_tfidfv.shape)\n",
    "X_Val_tfidfv = tfidfv.transform(X_val)"
   ]
  },
  {
   "cell_type": "markdown",
   "id": "b31b4b3b",
   "metadata": {},
   "source": [
    "### Tratamiento de datos\n",
    "En este proyecto, vamos a probar cuatro clasificadores: <br>\n",
    "    &emsp;- Naive Bayes <br>\n",
    "    &emsp;- Regresión Logística <br>\n",
    "    &emsp;- Random Forest <br>\n",
    "    &emsp;- Redes Neuronales <br>\n",
    "Hemos elegido añadir Random Forest ya que es un clasificador consistente que tiene buenos resultados en general y ayuda con la reducción de variables. Por otro lado, hemos escogido Redes Neuronales ya que es intuitivo asignar una característica por perceptrón."
   ]
  },
  {
   "cell_type": "code",
   "execution_count": 28,
   "id": "a3bed4a9",
   "metadata": {},
   "outputs": [],
   "source": [
    "def clasifica(X_train, X_val, y_train, y_val, cf):\n",
    "    np.random.seed(12)\n",
    "    lr = LogisticRegression()\n",
    "    nn = MLPClassifier()\n",
    "    rf = RandomForestClassifier()\n",
    "    nb = MultinomialNB()\n",
    "    if type(cf) == type(rf):\n",
    "        param_grid = {\n",
    "            'n_estimators': [50, 100, 200],\n",
    "            'max_depth': [None, 5, 10],\n",
    "            'min_samples_split': [2, 5, 10],\n",
    "            'min_samples_leaf': [1, 2, 4]\n",
    "        }\n",
    "    elif type(cf) == type(lr):\n",
    "        param_grid = {'penalty': ['l2'],\n",
    "              'C': [0.001, 0.01, 0.1, 1, 10, 100],\n",
    "              'solver': ['newton-cg', 'lbfgs', 'liblinear', 'sag', 'saga'],\n",
    "              'max_iter': [10000]}\n",
    "    elif type(cf) == type(nb):\n",
    "        param_grid = {\n",
    "            'alpha': [0.1, 0.5, 1.0, 2.0],\n",
    "            'fit_prior': [True, False]\n",
    "        }\n",
    "    else:\n",
    "        param_grid = {\n",
    "            'hidden_layer_sizes': [range(1, 25, 2)],\n",
    "            'activation': ['logistic', 'relu'],\n",
    "            'solver': ['sgd', 'adam'],\n",
    "            'alpha': [0.0001, 0.001, 0.01],\n",
    "            'learning_rate': ['constant', 'adaptive'],\n",
    "            'max_iter': [10000]\n",
    "        }\n",
    "    grid_search = GridSearchCV(estimator=cf, param_grid=param_grid, cv=5)\n",
    "\n",
    "    grid_search.fit(X_train, y_train)\n",
    "    predTrain = grid_search.predict(X_train)\n",
    "    predVal = grid_search.predict(X_val)\n",
    "\n",
    "    accTrain = metrics.accuracy_score(y_train, predTrain)\n",
    "    accVal = metrics.accuracy_score(y_val, predVal)\n",
    "    print(\"Mejores hiperparámetros:\", grid_search.best_params_)\n",
    "    return accTrain, accVal, predTrain, predVal\n"
   ]
  },
  {
   "cell_type": "markdown",
   "id": "8c918a4d",
   "metadata": {},
   "source": [
    "Asignamos la misma semilla para obtener resultados lo menos sesgados posible."
   ]
  },
  {
   "cell_type": "code",
   "execution_count": 29,
   "id": "0767b395",
   "metadata": {},
   "outputs": [],
   "source": [
    "np.random.seed(12)\n",
    "lr = LogisticRegression()\n",
    "nn = MLPClassifier()\n",
    "rf = RandomForestClassifier()\n",
    "nb = MultinomialNB()"
   ]
  },
  {
   "cell_type": "markdown",
   "id": "2e0a8610",
   "metadata": {},
   "source": [
    "Obtenemos los mejores hiper-parámetros para este problema en el conjuto de train."
   ]
  },
  {
   "cell_type": "code",
   "execution_count": 30,
   "id": "a4e0c5a0-764a-498b-9471-1b738b0093fe",
   "metadata": {
    "scrolled": true
   },
   "outputs": [
    {
     "name": "stdout",
     "output_type": "stream",
     "text": [
      "Mejores hiperparámetros: {'C': 0.1, 'max_iter': 10000, 'penalty': 'l2', 'solver': 'newton-cg'}\n",
      "Mejores hiperparámetros: {'alpha': 1.0, 'fit_prior': False}\n",
      "Mejores hiperparámetros: {'activation': 'relu', 'alpha': 0.001, 'hidden_layer_sizes': range(1, 25, 2), 'learning_rate': 'constant', 'max_iter': 10000, 'solver': 'adam'}\n",
      "Mejores hiperparámetros: {'max_depth': None, 'min_samples_leaf': 2, 'min_samples_split': 2, 'n_estimators': 200}\n"
     ]
    }
   ],
   "source": [
    "##Creamos un dataset para guardar los resultados\n",
    "title = {'Name','AccuracyVal','AccuracyTrain'}\n",
    "df = pd.DataFrame(columns = title)\n",
    "\n",
    "[accTrain,accVal,predTrain,predVal] = clasifica(X_train_tfidfv, X_Val_tfidfv, y_train, y_val,lr)\n",
    "df = df.append({'Name': 'Regresion logistica', 'AccuracyVal': accVal,'AccuracyTrain': accTrain}, ignore_index=True)\n",
    "[accTrain,accVal,predTrain,predVal] = clasifica(X_train_tfidfv, X_Val_tfidfv, y_train, y_val,nb)\n",
    "df = df.append({'Name': 'Naive Bayes', 'AccuracyVal': accVal,'AccuracyTrain': accTrain}, ignore_index=True) \n",
    "[accTrain,accVal,predTrain,predVal] = clasifica(X_train_tfidfv, X_Val_tfidfv, y_train, y_val,nn)\n",
    "df = df.append({'Name': 'Redes Neuronales', 'AccuracyVal': accVal,'AccuracyTrain': accTrain}, ignore_index=True)\n",
    "[accTrain,accVal,predTrain,predVal] = clasifica(X_train_tfidfv, X_Val_tfidfv, y_train, y_val,rf)\n",
    "df = df.append({'Name': 'Random Forest', 'AccuracyVal': accVal,'AccuracyTrain': accTrain}, ignore_index=True)"
   ]
  },
  {
   "cell_type": "markdown",
   "id": "90a1882e",
   "metadata": {},
   "source": [
    "Hacemos lo mismo para el conjunto de validación."
   ]
  },
  {
   "cell_type": "code",
   "execution_count": 31,
   "id": "bf4565b8-acf9-4843-b987-64a5fc612311",
   "metadata": {},
   "outputs": [
    {
     "name": "stdout",
     "output_type": "stream",
     "text": [
      "Mejores hiperparámetros: {'C': 0.1, 'max_iter': 10000, 'penalty': 'l2', 'solver': 'sag'}\n",
      "Mejores hiperparámetros: {'alpha': 1.0, 'fit_prior': False}\n",
      "Mejores hiperparámetros: {'activation': 'relu', 'alpha': 0.001, 'hidden_layer_sizes': range(1, 25, 2), 'learning_rate': 'constant', 'max_iter': 10000, 'solver': 'adam'}\n",
      "Mejores hiperparámetros: {'max_depth': None, 'min_samples_leaf': 1, 'min_samples_split': 10, 'n_estimators': 200}\n"
     ]
    }
   ],
   "source": [
    "##Creamos un dataset para guardar los resultados\n",
    "title = {'Name','AccuracyVal','AccuracyTrain'}\n",
    "dfBag = pd.DataFrame(columns = title)\n",
    "\n",
    "[accTrain,accVal,predTrain,predVal] = clasifica(X_train_cv, X_Val_cv, y_train, y_val,lr)\n",
    "dfBag = dfBag.append({'Name': 'Regresion logistica', 'AccuracyVal': accVal,'AccuracyTrain': accTrain}, ignore_index=True)\n",
    "[accTrain,accVal,predTrain,predVal] = clasifica(X_train_cv, X_Val_cv, y_train, y_val,nb)\n",
    "dfBag = dfBag.append({'Name': 'Naive Bayes', 'AccuracyVal': accVal,'AccuracyTrain': accTrain}, ignore_index=True) \n",
    "[accTrain,accVal,predTrain,predVal] = clasifica(X_train_cv, X_Val_cv, y_train, y_val,nn)\n",
    "dfBag = dfBag.append({'Name': 'Redes Neuronales', 'AccuracyVal': accVal,'AccuracyTrain': accTrain}, ignore_index=True)\n",
    "[accTrain,accVal,predTrain,predVal] = clasifica(X_train_cv, X_Val_cv, y_train, y_val,rf)\n",
    "dfBag = dfBag.append({'Name': 'Random Forest', 'AccuracyVal': accVal,'AccuracyTrain': accTrain}, ignore_index=True)"
   ]
  },
  {
   "cell_type": "code",
   "execution_count": 32,
   "id": "89281c78-0405-429f-8185-9327b390eab4",
   "metadata": {},
   "outputs": [
    {
     "name": "stdout",
     "output_type": "stream",
     "text": [
      "   AccuracyVal  AccuracyTrain                 Name\n",
      "0     0.357542       0.586424  Regresion logistica\n",
      "1     0.379888       0.620714          Naive Bayes\n",
      "2     0.212291       0.201540     Redes Neuronales\n",
      "3     0.351955       0.895031        Random Forest\n"
     ]
    }
   ],
   "source": [
    "print(df)\n",
    "##Ahora seleccionamos el mejor y probamos a usarlo con los datos del test"
   ]
  },
  {
   "cell_type": "code",
   "execution_count": 33,
   "id": "27bc834c-6bb2-4faf-9c4f-f3e5e809cd50",
   "metadata": {},
   "outputs": [
    {
     "name": "stdout",
     "output_type": "stream",
     "text": [
      "   AccuracyVal  AccuracyTrain                 Name\n",
      "0     0.335196       0.642407  Regresion logistica\n",
      "1     0.374302       0.592722          Naive Bayes\n",
      "2     0.206704       0.202939     Redes Neuronales\n",
      "3     0.340782       0.941218        Random Forest\n"
     ]
    }
   ],
   "source": [
    "print(dfBag)"
   ]
  },
  {
   "cell_type": "code",
   "execution_count": 34,
   "id": "7124bc74-b63a-4922-8a4a-02785c139461",
   "metadata": {},
   "outputs": [
    {
     "data": {
      "text/plain": [
       "0.3743016759776536"
      ]
     },
     "execution_count": 34,
     "metadata": {},
     "output_type": "execute_result"
    }
   ],
   "source": [
    "dfBag['AccuracyVal'].max()"
   ]
  },
  {
   "cell_type": "markdown",
   "id": "c416c4ef-32fa-4253-a4d7-d1aa02c1fe90",
   "metadata": {},
   "source": [
    "Con esto vemos que el clasificador de Naive Bayes con la opción de Bag of Words es el resultado que mayor precisión tiene. Por lo tanto vamos a elegir ese modelo con los mejores hiperparametros para evaluar los datos de test"
   ]
  },
  {
   "cell_type": "code",
   "execution_count": 35,
   "id": "f315c7de-487c-43b7-b344-a7a5259bcc1c",
   "metadata": {},
   "outputs": [
    {
     "name": "stdout",
     "output_type": "stream",
     "text": [
      "Accuracy en test 0.44692737430167595\n"
     ]
    }
   ],
   "source": [
    "#predecir en test con el mejor clasificador\n",
    "X_test_cv = cv.transform(X_test)\n",
    "nb = MultinomialNB(alpha = 0.5, fit_prior = True)\n",
    "nb.fit(X_train_cv, y_train)\n",
    "predTest = nb.predict(X_test_cv)\n",
    "predTrain = nb.predict(X_train_cv)                       \n",
    "accTest = metrics.accuracy_score(y_test, predTest)\n",
    "print(\"Accuracy en test\",accTest)"
   ]
  },
  {
   "cell_type": "markdown",
   "id": "bf1a8a3d-cc0f-4bd8-8640-93355a31ea7c",
   "metadata": {},
   "source": [
    "El resultado es bastante malo, vamos a graficar los resultados mediante una matriz de confusion y un grafico para observar en donde ha fallado."
   ]
  },
  {
   "cell_type": "code",
   "execution_count": 36,
   "id": "d3a17a66-47bd-40d3-a635-5419b600e135",
   "metadata": {
    "scrolled": true
   },
   "outputs": [
    {
     "data": {
      "image/png": "[encoded data removed]",
      "text/plain": [
       "<Figure size 640x480 with 1 Axes>"
      ]
     },
     "metadata": {},
     "output_type": "display_data"
    }
   ],
   "source": [
    "# Crear un DataFrame con las etiquetas reales y predichas\n",
    "df = pd.DataFrame({'real': y_test, 'predicho': predTest})\n",
    "labels = [1, 2, 3, 4, 5]\n",
    "# Contar la cantidad de reviews en cada estrella\n",
    "real_counts = df['real'].value_counts().sort_index()\n",
    "predicho_counts = df['predicho'].value_counts().sort_index()\n",
    "\n",
    "# Configurar la posición de las barras en el gráfico\n",
    "bar_width = 0.35\n",
    "r1 = np.arange(len(predicho_counts))\n",
    "r2 = [x + bar_width for x in r1]\n",
    "\n",
    "# Crear el gráfico de barras\n",
    "plt.bar(r1, predicho_counts, color='blue', width=bar_width, edgecolor='white', label='Predicciones')\n",
    "plt.bar(r2, real_counts, color='green', width=bar_width, edgecolor='white', label='Valores Reales')\n",
    "\n",
    "# Configurar las etiquetas y los títulos del gráfico\n",
    "plt.xlabel('Etiquetas')\n",
    "plt.ylabel('Cantidad')\n",
    "plt.xticks([r + bar_width/2 for r in range(len(predicho_counts))], labels)\n",
    "plt.title('Comparación de Predicciones y Valores Reales')\n",
    "plt.legend()\n",
    "\n",
    "# Mostrar el gráfico\n",
    "plt.show()"
   ]
  },
  {
   "cell_type": "markdown",
   "id": "114e9d74",
   "metadata": {},
   "source": [
    "Como podemos ver, el modelo se ajusta dentro de lo que cabe, es decir, no se extremiza prediciendo constantemente una estrella o casos por el estilo. Vamos a investigar más a fondo de dónde puede provenir el error."
   ]
  },
  {
   "cell_type": "code",
   "execution_count": 37,
   "id": "e56cbf4f",
   "metadata": {},
   "outputs": [
    {
     "name": "stdout",
     "output_type": "stream",
     "text": [
      "aciertos:  80\n",
      "falla por 1:  56\n",
      "falla por 2:  23\n",
      "falla por 3:  15\n",
      "falla por 4:  5\n"
     ]
    },
    {
     "data": {
      "image/png": "[encoded data removed]",
      "text/plain": [
       "<Figure size 640x480 with 1 Axes>"
      ]
     },
     "metadata": {},
     "output_type": "display_data"
    }
   ],
   "source": [
    "dif = np.array(predTest)\n",
    "for i in range(predTest.size):\n",
    "    #print(\"prediccion: {} valor Real {}\".format(predTest[i],val_y[i]))\n",
    "    dif[i] = abs(y_test.iloc[i]-predTest[i])\n",
    "print(\"aciertos: \",dif[dif == 0].size)\n",
    "print(\"falla por 1: \",dif[dif == 1].size)\n",
    "print(\"falla por 2: \",dif[dif == 2].size)\n",
    "print(\"falla por 3: \",dif[dif == 3].size)\n",
    "print(\"falla por 4: \",dif[dif == 4].size)\n",
    "\n",
    "count_dif = []\n",
    "count_dif.append(dif[dif == 0].size)\n",
    "count_dif.append(dif[dif == 1].size)\n",
    "count_dif.append(dif[dif == 2].size)\n",
    "count_dif.append(dif[dif == 3].size)\n",
    "count_dif.append(dif[dif == 4].size)\n",
    "\n",
    "plt.bar(np.arange(5), count_dif, color='red', width=bar_width, edgecolor='white', label='Predicciones' )\n",
    "\n",
    "\n",
    "plt.show()"
   ]
  },
  {
   "cell_type": "code",
   "execution_count": 38,
   "id": "045fb407-fc44-4c74-b202-4727f78160ee",
   "metadata": {
    "scrolled": true
   },
   "outputs": [
    {
     "data": {
      "image/png": "[encoded data removed]",
      "text/plain": [
       "<Figure size 1000x500 with 2 Axes>"
      ]
     },
     "metadata": {},
     "output_type": "display_data"
    }
   ],
   "source": [
    "# Matriz de confusión para los resultados de train\n",
    "cm_train = confusion_matrix(y_train, predTrain)\n",
    "\n",
    "# Matriz de confusión para los resultados de Validacion\n",
    "cm_val = confusion_matrix(y_test, predTest)\n",
    "\n",
    "# Crear un subplot con dos gráficos de matriz de confusión\n",
    "fig, axes = plt.subplots(nrows=1, ncols=2, figsize=(10, 5))\n",
    "\n",
    "# Graficar la matriz de confusión de train en el primer gráfico del subplot\n",
    "axes[0].imshow(cm_train, interpolation='nearest', cmap=plt.cm.Blues)\n",
    "axes[0].set_title('Matriz de Confusión (Train)')\n",
    "axes[0].set_xlabel('Etiqueta Predicha')\n",
    "axes[0].set_ylabel('Etiqueta Real')\n",
    "\n",
    "\n",
    "# Graficar la matriz de confusión de Validacion en el segundo gráfico del subplot\n",
    "axes[1].imshow(cm_val, interpolation='nearest', cmap=plt.cm.Blues)\n",
    "axes[1].set_title('Matriz de Confusión (Validación)')\n",
    "axes[1].set_xlabel('Etiqueta Predicha')\n",
    "axes[1].set_ylabel('Etiqueta Real')\n",
    "\n",
    "# Mostrar el subplot\n",
    "plt.show()\n"
   ]
  },
  {
   "cell_type": "markdown",
   "id": "6d701b71",
   "metadata": {},
   "source": [
    "Como se observa en la matriz de confusión, la mayoria de los fallos son que falla en 1 estrella, siendo los mas destacados los fallos en 1 y 5 estrellas. Aunque el la prediccion de una precision bastante mala, el clasificador falla en la mayoria de las veces por una estrella, por lo que no se equivoca demasiado. Cabe destacar que en su mayoria falla en los extremos, es decir, sabe que la review es buena o mala pero se equivoca en la intensidad ya que no sabe si es 4 o 5 estrellas, pero sabe que es una de esas, lo mismo con 1 y 2 estrellas."
   ]
  }
 ],
 "metadata": {
  "kernelspec": {
   "display_name": "Python 3 (ipykernel)",
   "language": "python",
   "name": "python3"
  },
  "language_info": {
   "codemirror_mode": {
    "name": "ipython",
    "version": 3
   },
   "file_extension": ".py",
   "mimetype": "text/x-python",
   "name": "python",
   "nbconvert_exporter": "python",
   "pygments_lexer": "ipython3",
   "version": "3.8.10"
  }
 },
 "nbformat": 4,
 "nbformat_minor": 5
}
